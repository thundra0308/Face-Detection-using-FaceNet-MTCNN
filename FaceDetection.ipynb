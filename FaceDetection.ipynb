{
 "cells": [
  {
   "cell_type": "code",
   "execution_count": 1,
   "metadata": {},
   "outputs": [
    {
     "name": "stdout",
     "output_type": "stream",
     "text": [
      "Requirement already satisfied: mtcnn in d:\\miniconda3\\envs\\machinelearning\\lib\\site-packages (0.1.1)\n",
      "Requirement already satisfied: opencv-python>=4.1.0 in d:\\miniconda3\\envs\\machinelearning\\lib\\site-packages (from mtcnn) (4.5.5.62)\n",
      "Requirement already satisfied: keras>=2.0.0 in d:\\miniconda3\\envs\\machinelearning\\lib\\site-packages (from mtcnn) (2.8.0)\n",
      "Requirement already satisfied: numpy>=1.19.3 in d:\\miniconda3\\envs\\machinelearning\\lib\\site-packages (from opencv-python>=4.1.0->mtcnn) (1.22.2)\n",
      "Requirement already satisfied: matplotlib in d:\\miniconda3\\envs\\machinelearning\\lib\\site-packages (3.5.1)\n",
      "Requirement already satisfied: numpy>=1.17 in d:\\miniconda3\\envs\\machinelearning\\lib\\site-packages (from matplotlib) (1.22.2)\n",
      "Requirement already satisfied: cycler>=0.10 in d:\\miniconda3\\envs\\machinelearning\\lib\\site-packages (from matplotlib) (0.11.0)\n",
      "Requirement already satisfied: python-dateutil>=2.7 in d:\\miniconda3\\envs\\machinelearning\\lib\\site-packages (from matplotlib) (2.8.2)\n",
      "Requirement already satisfied: pillow>=6.2.0 in d:\\miniconda3\\envs\\machinelearning\\lib\\site-packages (from matplotlib) (9.0.1)\n",
      "Requirement already satisfied: kiwisolver>=1.0.1 in d:\\miniconda3\\envs\\machinelearning\\lib\\site-packages (from matplotlib) (1.3.2)\n",
      "Requirement already satisfied: fonttools>=4.22.0 in d:\\miniconda3\\envs\\machinelearning\\lib\\site-packages (from matplotlib) (4.29.1)\n",
      "Requirement already satisfied: packaging>=20.0 in d:\\miniconda3\\envs\\machinelearning\\lib\\site-packages (from matplotlib) (21.3)\n",
      "Requirement already satisfied: pyparsing>=2.2.1 in d:\\miniconda3\\envs\\machinelearning\\lib\\site-packages (from matplotlib) (3.0.7)\n",
      "Requirement already satisfied: six>=1.5 in d:\\miniconda3\\envs\\machinelearning\\lib\\site-packages (from python-dateutil>=2.7->matplotlib) (1.16.0)\n",
      "Requirement already satisfied: facenet_pytorch in d:\\miniconda3\\envs\\machinelearning\\lib\\site-packages (2.5.2)\n",
      "Requirement already satisfied: pillow in d:\\miniconda3\\envs\\machinelearning\\lib\\site-packages (from facenet_pytorch) (9.0.1)\n",
      "Requirement already satisfied: requests in d:\\miniconda3\\envs\\machinelearning\\lib\\site-packages (from facenet_pytorch) (2.27.1)\n",
      "Requirement already satisfied: torchvision in d:\\miniconda3\\envs\\machinelearning\\lib\\site-packages (from facenet_pytorch) (0.11.3)\n",
      "Requirement already satisfied: numpy in d:\\miniconda3\\envs\\machinelearning\\lib\\site-packages (from facenet_pytorch) (1.22.2)\n",
      "Requirement already satisfied: urllib3<1.27,>=1.21.1 in d:\\miniconda3\\envs\\machinelearning\\lib\\site-packages (from requests->facenet_pytorch) (1.26.8)\n",
      "Requirement already satisfied: idna<4,>=2.5 in d:\\miniconda3\\envs\\machinelearning\\lib\\site-packages (from requests->facenet_pytorch) (3.3)\n",
      "Requirement already satisfied: charset-normalizer~=2.0.0 in d:\\miniconda3\\envs\\machinelearning\\lib\\site-packages (from requests->facenet_pytorch) (2.0.11)\n",
      "Requirement already satisfied: certifi>=2017.4.17 in d:\\miniconda3\\envs\\machinelearning\\lib\\site-packages (from requests->facenet_pytorch) (2021.10.8)\n",
      "Requirement already satisfied: torch==1.10.2 in d:\\miniconda3\\envs\\machinelearning\\lib\\site-packages (from torchvision->facenet_pytorch) (1.10.2)\n",
      "Requirement already satisfied: typing-extensions in d:\\miniconda3\\envs\\machinelearning\\lib\\site-packages (from torch==1.10.2->torchvision->facenet_pytorch) (4.0.1)\n"
     ]
    }
   ],
   "source": [
    "!pip install mtcnn\n",
    "!pip install matplotlib\n",
    "!pip install facenet_pytorch"
   ]
  },
  {
   "cell_type": "code",
   "execution_count": 4,
   "metadata": {},
   "outputs": [],
   "source": [
    "from matplotlib import pyplot as plt\n",
    "from PIL import Image\n",
    "from facenet_pytorch import MTCNN\n",
    "import torch\n",
    "import cv2"
   ]
  },
  {
   "cell_type": "code",
   "execution_count": 5,
   "metadata": {},
   "outputs": [],
   "source": [
    "device = torch.device('cuda:0' if torch.cuda.is_available() else 'cpu')\n",
    "mtcnn = MTCNN(keep_all=True, device=device)"
   ]
  },
  {
   "cell_type": "code",
   "execution_count": 6,
   "metadata": {},
   "outputs": [],
   "source": [
    "def extract_image(image):\n",
    "  if ret:\n",
    "    frame = cv2.resize(image, (600, 400))\n",
    "\n",
    "      #Here we are going to use the facenet detector\n",
    "    boxes, conf = mtcnn.detect(frame)\n",
    "\n",
    "      # If there is no confidence that in the frame is a face, don't draw a rectangle around it\n",
    "    if conf[0] !=  None:  \n",
    "      for (x, y, w, h) in boxes:\n",
    "        text = f\"{conf[0]*100:.2f}%\"\n",
    "        x, y, w, h = int(x), int(y), int(w), int(h)\n",
    " \n",
    "        cv2.putText(frame, text, (x, y-20), \n",
    "        cv2.FONT_HERSHEY_SIMPLEX, 1,(170, 170, 170), 1)\n",
    "        cv2.rectangle(frame, (x, y), (w, h), (255, 255, 255), 1)\n",
    "\n",
    "  return frame"
   ]
  },
  {
   "cell_type": "code",
   "execution_count": 10,
   "metadata": {},
   "outputs": [],
   "source": [
    "cap=cv2.VideoCapture('video1.mp4')\n",
    "while True:\n",
    "  ret, frame = cap.read()\n",
    "  cv2.imshow(\"FRAME\", extract_image(frame))\n",
    "  if cv2.waitKey(1) & 0xFF == ord('q'):\n",
    "    break\n",
    "cap.release()\n",
    "cv2.destroyAllWindows()"
   ]
  }
 ],
 "metadata": {
  "interpreter": {
   "hash": "8ccb29bf9744ffb5179b905cd58fa01d7174f607fdb846236422d0462e75a53f"
  },
  "kernelspec": {
   "display_name": "Python 3.9.7 64-bit ('tf': conda)",
   "language": "python",
   "name": "python3"
  },
  "language_info": {
   "codemirror_mode": {
    "name": "ipython",
    "version": 3
   },
   "file_extension": ".py",
   "mimetype": "text/x-python",
   "name": "python",
   "nbconvert_exporter": "python",
   "pygments_lexer": "ipython3",
   "version": "3.9.7"
  },
  "orig_nbformat": 4
 },
 "nbformat": 4,
 "nbformat_minor": 2
}
